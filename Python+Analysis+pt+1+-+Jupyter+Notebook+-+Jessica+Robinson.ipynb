{
 "cells": [
  {
   "cell_type": "code",
   "execution_count": 4,
   "metadata": {
    "collapsed": true
   },
   "outputs": [],
   "source": [
    "# import reader and open/read file\n",
    "from csv import reader\n",
    "opened_file = open('Content_Exercise_Data.csv')\n",
    "read_file = reader(opened_file)\n",
    "content_exercise = list(read_file)[1:]"
   ]
  },
  {
   "cell_type": "code",
   "execution_count": 5,
   "metadata": {
    "collapsed": true
   },
   "outputs": [],
   "source": [
    "import pandas as pd\n",
    "# read the CSV file and assign to variable df for dataframe\n",
    "df = pd.read_csv('Content_Exercise_Data.csv')"
   ]
  },
  {
   "cell_type": "code",
   "execution_count": 6,
   "metadata": {
    "collapsed": false
   },
   "outputs": [
    {
     "data": {
      "text/html": [
       "<div>\n",
       "<style scoped>\n",
       "    .dataframe tbody tr th:only-of-type {\n",
       "        vertical-align: middle;\n",
       "    }\n",
       "\n",
       "    .dataframe tbody tr th {\n",
       "        vertical-align: top;\n",
       "    }\n",
       "\n",
       "    .dataframe thead th {\n",
       "        text-align: right;\n",
       "    }\n",
       "</style>\n",
       "<table border=\"1\" class=\"dataframe\">\n",
       "  <thead>\n",
       "    <tr style=\"text-align: right;\">\n",
       "      <th></th>\n",
       "      <th>Survey Collection ID</th>\n",
       "      <th>System</th>\n",
       "      <th>School</th>\n",
       "      <th>Survey Type</th>\n",
       "      <th>Delivery Method</th>\n",
       "      <th>Date</th>\n",
       "      <th>Primary Facilitator</th>\n",
       "      <th>Secondary Facilitator</th>\n",
       "      <th>Tertiary Facilitator</th>\n",
       "      <th>Quaternary Facilitator</th>\n",
       "      <th>...</th>\n",
       "      <th>Clear about change we seek</th>\n",
       "      <th>Clear about roles and responsibilities</th>\n",
       "      <th>Confident plan will achieve goals</th>\n",
       "      <th>Feel more equipped</th>\n",
       "      <th>Equipped and supported</th>\n",
       "      <th>Understand state of instruction</th>\n",
       "      <th>Valuable use of my time:</th>\n",
       "      <th>Clarity direction of work ahead</th>\n",
       "      <th>I learned something:</th>\n",
       "      <th>Likely to recommend Instruction Partners</th>\n",
       "    </tr>\n",
       "  </thead>\n",
       "  <tbody>\n",
       "    <tr>\n",
       "      <th>0</th>\n",
       "      <td>a152E00000EpDCyQAN</td>\n",
       "      <td>District/Network 32</td>\n",
       "      <td>School 69</td>\n",
       "      <td>Leader Coaching</td>\n",
       "      <td>Virtual</td>\n",
       "      <td>7/13/2021</td>\n",
       "      <td>Facilitator 10</td>\n",
       "      <td>Facilitator 33</td>\n",
       "      <td>Facilitator 13</td>\n",
       "      <td>Facilitator 16</td>\n",
       "      <td>...</td>\n",
       "      <td>NaN</td>\n",
       "      <td>NaN</td>\n",
       "      <td>NaN</td>\n",
       "      <td>NaN</td>\n",
       "      <td>NaN</td>\n",
       "      <td>NaN</td>\n",
       "      <td>Strongly Agree</td>\n",
       "      <td>NaN</td>\n",
       "      <td>Strongly Agree</td>\n",
       "      <td>NaN</td>\n",
       "    </tr>\n",
       "    <tr>\n",
       "      <th>1</th>\n",
       "      <td>a152E00000EpDCyQAN</td>\n",
       "      <td>District/Network 32</td>\n",
       "      <td>School 69</td>\n",
       "      <td>Leader Coaching</td>\n",
       "      <td>Virtual</td>\n",
       "      <td>7/13/2021</td>\n",
       "      <td>Facilitator 10</td>\n",
       "      <td>Facilitator 33</td>\n",
       "      <td>Facilitator 13</td>\n",
       "      <td>Facilitator 16</td>\n",
       "      <td>...</td>\n",
       "      <td>NaN</td>\n",
       "      <td>NaN</td>\n",
       "      <td>NaN</td>\n",
       "      <td>NaN</td>\n",
       "      <td>NaN</td>\n",
       "      <td>NaN</td>\n",
       "      <td>Strongly Agree</td>\n",
       "      <td>NaN</td>\n",
       "      <td>Strongly Agree</td>\n",
       "      <td>NaN</td>\n",
       "    </tr>\n",
       "    <tr>\n",
       "      <th>2</th>\n",
       "      <td>a152E00000EpDCyQAN</td>\n",
       "      <td>District/Network 32</td>\n",
       "      <td>School 72</td>\n",
       "      <td>Leader Coaching</td>\n",
       "      <td>Virtual</td>\n",
       "      <td>7/13/2021</td>\n",
       "      <td>Facilitator 10</td>\n",
       "      <td>Facilitator 33</td>\n",
       "      <td>Facilitator 13</td>\n",
       "      <td>Facilitator 16</td>\n",
       "      <td>...</td>\n",
       "      <td>NaN</td>\n",
       "      <td>NaN</td>\n",
       "      <td>NaN</td>\n",
       "      <td>NaN</td>\n",
       "      <td>NaN</td>\n",
       "      <td>NaN</td>\n",
       "      <td>Neutral</td>\n",
       "      <td>NaN</td>\n",
       "      <td>Somewhat Disagree</td>\n",
       "      <td>NaN</td>\n",
       "    </tr>\n",
       "    <tr>\n",
       "      <th>3</th>\n",
       "      <td>a152E00000EpDCyQAN</td>\n",
       "      <td>District/Network 32</td>\n",
       "      <td>School 72</td>\n",
       "      <td>Leader Coaching</td>\n",
       "      <td>Virtual</td>\n",
       "      <td>7/13/2021</td>\n",
       "      <td>Facilitator 10</td>\n",
       "      <td>Facilitator 33</td>\n",
       "      <td>Facilitator 13</td>\n",
       "      <td>Facilitator 16</td>\n",
       "      <td>...</td>\n",
       "      <td>NaN</td>\n",
       "      <td>NaN</td>\n",
       "      <td>NaN</td>\n",
       "      <td>NaN</td>\n",
       "      <td>NaN</td>\n",
       "      <td>NaN</td>\n",
       "      <td>Somewhat Agree</td>\n",
       "      <td>NaN</td>\n",
       "      <td>Agree</td>\n",
       "      <td>NaN</td>\n",
       "    </tr>\n",
       "    <tr>\n",
       "      <th>4</th>\n",
       "      <td>a152E00000EpDCyQAN</td>\n",
       "      <td>District/Network 32</td>\n",
       "      <td>School 73</td>\n",
       "      <td>Leader Coaching</td>\n",
       "      <td>Virtual</td>\n",
       "      <td>7/13/2021</td>\n",
       "      <td>Facilitator 10</td>\n",
       "      <td>Facilitator 33</td>\n",
       "      <td>Facilitator 13</td>\n",
       "      <td>Facilitator 16</td>\n",
       "      <td>...</td>\n",
       "      <td>NaN</td>\n",
       "      <td>NaN</td>\n",
       "      <td>NaN</td>\n",
       "      <td>NaN</td>\n",
       "      <td>NaN</td>\n",
       "      <td>NaN</td>\n",
       "      <td>Agree</td>\n",
       "      <td>NaN</td>\n",
       "      <td>Strongly Agree</td>\n",
       "      <td>NaN</td>\n",
       "    </tr>\n",
       "  </tbody>\n",
       "</table>\n",
       "<p>5 rows × 21 columns</p>\n",
       "</div>"
      ],
      "text/plain": [
       "  Survey Collection ID               System     School      Survey Type  \\\n",
       "0   a152E00000EpDCyQAN  District/Network 32  School 69  Leader Coaching   \n",
       "1   a152E00000EpDCyQAN  District/Network 32  School 69  Leader Coaching   \n",
       "2   a152E00000EpDCyQAN  District/Network 32  School 72  Leader Coaching   \n",
       "3   a152E00000EpDCyQAN  District/Network 32  School 72  Leader Coaching   \n",
       "4   a152E00000EpDCyQAN  District/Network 32  School 73  Leader Coaching   \n",
       "\n",
       "  Delivery Method       Date Primary Facilitator Secondary Facilitator  \\\n",
       "0         Virtual  7/13/2021      Facilitator 10        Facilitator 33   \n",
       "1         Virtual  7/13/2021      Facilitator 10        Facilitator 33   \n",
       "2         Virtual  7/13/2021      Facilitator 10        Facilitator 33   \n",
       "3         Virtual  7/13/2021      Facilitator 10        Facilitator 33   \n",
       "4         Virtual  7/13/2021      Facilitator 10        Facilitator 33   \n",
       "\n",
       "  Tertiary Facilitator Quaternary Facilitator  \\\n",
       "0       Facilitator 13         Facilitator 16   \n",
       "1       Facilitator 13         Facilitator 16   \n",
       "2       Facilitator 13         Facilitator 16   \n",
       "3       Facilitator 13         Facilitator 16   \n",
       "4       Facilitator 13         Facilitator 16   \n",
       "\n",
       "                    ...                    Clear about change we seek  \\\n",
       "0                   ...                                           NaN   \n",
       "1                   ...                                           NaN   \n",
       "2                   ...                                           NaN   \n",
       "3                   ...                                           NaN   \n",
       "4                   ...                                           NaN   \n",
       "\n",
       "  Clear about roles and responsibilities Confident plan will achieve goals  \\\n",
       "0                                    NaN                               NaN   \n",
       "1                                    NaN                               NaN   \n",
       "2                                    NaN                               NaN   \n",
       "3                                    NaN                               NaN   \n",
       "4                                    NaN                               NaN   \n",
       "\n",
       "  Feel more equipped Equipped and supported Understand state of instruction  \\\n",
       "0                NaN                    NaN                             NaN   \n",
       "1                NaN                    NaN                             NaN   \n",
       "2                NaN                    NaN                             NaN   \n",
       "3                NaN                    NaN                             NaN   \n",
       "4                NaN                    NaN                             NaN   \n",
       "\n",
       "  Valuable use of my time: Clarity direction of work ahead  \\\n",
       "0           Strongly Agree                             NaN   \n",
       "1           Strongly Agree                             NaN   \n",
       "2                  Neutral                             NaN   \n",
       "3           Somewhat Agree                             NaN   \n",
       "4                    Agree                             NaN   \n",
       "\n",
       "  I learned something: Likely to recommend Instruction Partners  \n",
       "0       Strongly Agree                                      NaN  \n",
       "1       Strongly Agree                                      NaN  \n",
       "2    Somewhat Disagree                                      NaN  \n",
       "3                Agree                                      NaN  \n",
       "4       Strongly Agree                                      NaN  \n",
       "\n",
       "[5 rows x 21 columns]"
      ]
     },
     "execution_count": 6,
     "metadata": {},
     "output_type": "execute_result"
    }
   ],
   "source": [
    "# view first 5 rows of data\n",
    "df.head()"
   ]
  },
  {
   "cell_type": "code",
   "execution_count": 7,
   "metadata": {
    "collapsed": false
   },
   "outputs": [
    {
     "data": {
      "text/plain": [
       "(3649, 21)"
      ]
     },
     "execution_count": 7,
     "metadata": {},
     "output_type": "execute_result"
    }
   ],
   "source": [
    "# take a closer look at dataset\n",
    "df.shape"
   ]
  },
  {
   "cell_type": "code",
   "execution_count": 8,
   "metadata": {
    "collapsed": false
   },
   "outputs": [
    {
     "data": {
      "text/plain": [
       "Strongly Agree       250\n",
       "Agree                153\n",
       "Somewhat Agree        12\n",
       "Neutral                3\n",
       "Strongly Disagree      2\n",
       "Somewhat Disagree      2\n",
       "Name: Clear about change we seek, dtype: int64"
      ]
     },
     "execution_count": 8,
     "metadata": {},
     "output_type": "execute_result"
    }
   ],
   "source": [
    "# count how many instances of each score for survey categories\n",
    "\n",
    "df['Clear about change we seek'].value_counts()"
   ]
  },
  {
   "cell_type": "markdown",
   "metadata": {},
   "source": [
    "Of 3649 surveys, 250 chose Strongly Agree and 153 chose Agree for being \"clear on the change we seek\""
   ]
  },
  {
   "cell_type": "code",
   "execution_count": 39,
   "metadata": {
    "collapsed": false
   },
   "outputs": [
    {
     "data": {
      "text/plain": [
       "Strongly Agree       0.592417\n",
       "Agree                0.362559\n",
       "Somewhat Agree       0.028436\n",
       "Neutral              0.007109\n",
       "Strongly Disagree    0.004739\n",
       "Somewhat Disagree    0.004739\n",
       "Name: Clear about change we seek, dtype: float64"
      ]
     },
     "execution_count": 39,
     "metadata": {},
     "output_type": "execute_result"
    }
   ],
   "source": [
    "#Represent as percentages\n",
    "df['Clear about change we seek'].value_counts(normalize=True)"
   ]
  },
  {
   "cell_type": "markdown",
   "metadata": {},
   "source": [
    "Almost 60% of survey responders Strongly Agree they are \"clear on the change we seek\" and 36% Agree."
   ]
  },
  {
   "cell_type": "code",
   "execution_count": 32,
   "metadata": {
    "collapsed": true
   },
   "outputs": [],
   "source": [
    "# Exploratory visualization to look for patterns\n",
    "\n",
    "import matplotlib.pyplot as plt"
   ]
  },
  {
   "cell_type": "code",
   "execution_count": 54,
   "metadata": {
    "collapsed": false,
    "scrolled": true
   },
   "outputs": [
    {
     "data": {
      "text/plain": [
       "<matplotlib.axes._subplots.AxesSubplot at 0x7fbb46d8a198>"
      ]
     },
     "execution_count": 54,
     "metadata": {},
     "output_type": "execute_result"
    },
    {
     "data": {
      "image/png": "[encoded data removed]",
      "text/plain": [
       "<matplotlib.figure.Figure at 0x7fbb46d496a0>"
      ]
     },
     "metadata": {},
     "output_type": "display_data"
    }
   ],
   "source": [
    "df['Clear about change we seek'].value_counts(normalize=True).plot(kind=\"bar\", title=\"Clear About Change We Seek\")"
   ]
  },
  {
   "cell_type": "code",
   "execution_count": 40,
   "metadata": {
    "collapsed": false
   },
   "outputs": [
    {
     "data": {
      "text/plain": [
       "Strongly Agree       0.476303\n",
       "Agree                0.402844\n",
       "Somewhat Agree       0.078199\n",
       "Neutral              0.023697\n",
       "Disagree             0.007109\n",
       "Somewhat Disagree    0.007109\n",
       "Strongly Disagree    0.004739\n",
       "Name: Clear about roles and responsibilities, dtype: float64"
      ]
     },
     "execution_count": 40,
     "metadata": {},
     "output_type": "execute_result"
    }
   ],
   "source": [
    "df['Clear about roles and responsibilities'].value_counts(normalize=True)"
   ]
  },
  {
   "cell_type": "code",
   "execution_count": 55,
   "metadata": {
    "collapsed": false
   },
   "outputs": [
    {
     "data": {
      "text/plain": [
       "<matplotlib.axes._subplots.AxesSubplot at 0x7fbb46d370b8>"
      ]
     },
     "execution_count": 55,
     "metadata": {},
     "output_type": "execute_result"
    },
    {
     "data": {
      "image/png": "[encoded data removed]",
      "text/plain": [
       "<matplotlib.figure.Figure at 0x7fbb46d3be80>"
      ]
     },
     "metadata": {},
     "output_type": "display_data"
    }
   ],
   "source": [
    "df['Clear about roles and responsibilities'].value_counts(normalize=True).plot(kind=\"bar\", title=\"Clear About Roles/Responsibilities\")"
   ]
  },
  {
   "cell_type": "markdown",
   "metadata": {},
   "source": [
    "Almost 48% of survey responders Strongly Agree and 40% Agree they are \"clear about roles and responsibilities\"."
   ]
  },
  {
   "cell_type": "code",
   "execution_count": 41,
   "metadata": {
    "collapsed": false
   },
   "outputs": [
    {
     "data": {
      "text/plain": [
       "Strongly Agree       0.540284\n",
       "Agree                0.374408\n",
       "Somewhat Agree       0.052133\n",
       "Neutral              0.026066\n",
       "Strongly Disagree    0.004739\n",
       "Somewhat Disagree    0.002370\n",
       "Name: Confident plan will achieve goals, dtype: float64"
      ]
     },
     "execution_count": 41,
     "metadata": {},
     "output_type": "execute_result"
    }
   ],
   "source": [
    "df['Confident plan will achieve goals'].value_counts(normalize=True)"
   ]
  },
  {
   "cell_type": "code",
   "execution_count": 57,
   "metadata": {
    "collapsed": false
   },
   "outputs": [
    {
     "data": {
      "text/plain": [
       "<matplotlib.axes._subplots.AxesSubplot at 0x7fbb46c1fef0>"
      ]
     },
     "execution_count": 57,
     "metadata": {},
     "output_type": "execute_result"
    },
    {
     "data": {
      "image/png": "[encoded data removed]",
      "text/plain": [
       "<matplotlib.figure.Figure at 0x7fbb46d01b38>"
      ]
     },
     "metadata": {},
     "output_type": "display_data"
    }
   ],
   "source": [
    "df['Confident plan will achieve goals'].value_counts(normalize=True).plot(kind=\"bar\", title=\"Confident Plan Will Achieve Goals\")"
   ]
  },
  {
   "cell_type": "code",
   "execution_count": 42,
   "metadata": {
    "collapsed": false
   },
   "outputs": [
    {
     "data": {
      "text/plain": [
       "Strongly Agree       0.490541\n",
       "Agree                0.363836\n",
       "Somewhat Agree       0.069952\n",
       "Neutral              0.052354\n",
       "Strongly Disagree    0.010559\n",
       "Disagree             0.007479\n",
       "Somewhat Disagree    0.005279\n",
       "Name: Feel more equipped, dtype: float64"
      ]
     },
     "execution_count": 42,
     "metadata": {},
     "output_type": "execute_result"
    }
   ],
   "source": [
    "df['Feel more equipped'].value_counts(normalize=True)"
   ]
  },
  {
   "cell_type": "code",
   "execution_count": 59,
   "metadata": {
    "collapsed": false
   },
   "outputs": [
    {
     "data": {
      "text/plain": [
       "<matplotlib.axes._subplots.AxesSubplot at 0x7fbb46b10630>"
      ]
     },
     "execution_count": 59,
     "metadata": {},
     "output_type": "execute_result"
    },
    {
     "data": {
      "image/png": "[encoded data removed]",
      "text/plain": [
       "<matplotlib.figure.Figure at 0x7fbb46ad79b0>"
      ]
     },
     "metadata": {},
     "output_type": "display_data"
    }
   ],
   "source": [
    "df['Feel more equipped'].value_counts(normalize=True).plot(kind=\"bar\", title=\"Feel More Equipped\")"
   ]
  },
  {
   "cell_type": "code",
   "execution_count": 43,
   "metadata": {
    "collapsed": false
   },
   "outputs": [
    {
     "data": {
      "text/plain": [
       "Agree             0.625\n",
       "Strongly Agree    0.125\n",
       "Neutral           0.125\n",
       "Somewhat Agree    0.125\n",
       "Name: Equipped and supported, dtype: float64"
      ]
     },
     "execution_count": 43,
     "metadata": {},
     "output_type": "execute_result"
    }
   ],
   "source": [
    "df['Equipped and supported'].value_counts(normalize=True)"
   ]
  },
  {
   "cell_type": "code",
   "execution_count": 61,
   "metadata": {
    "collapsed": false
   },
   "outputs": [
    {
     "data": {
      "text/plain": [
       "<matplotlib.axes._subplots.AxesSubplot at 0x7fbb46a7e908>"
      ]
     },
     "execution_count": 61,
     "metadata": {},
     "output_type": "execute_result"
    },
    {
     "data": {
      "image/png": "[encoded data removed]",
      "text/plain": [
       "<matplotlib.figure.Figure at 0x7fbb469c25c0>"
      ]
     },
     "metadata": {},
     "output_type": "display_data"
    }
   ],
   "source": [
    "df['Equipped and supported'].value_counts(normalize=True).plot(kind=\"bar\", title=\"Equipped and Supported\")"
   ]
  },
  {
   "cell_type": "code",
   "execution_count": 44,
   "metadata": {
    "collapsed": false
   },
   "outputs": [
    {
     "data": {
      "text/plain": [
       "Strongly Agree       0.644550\n",
       "Agree                0.257504\n",
       "Somewhat Agree       0.050553\n",
       "Neutral              0.025276\n",
       "Strongly Disagree    0.012638\n",
       "Disagree             0.006319\n",
       "Somewhat Disagree    0.003160\n",
       "Name: Understand state of instruction, dtype: float64"
      ]
     },
     "execution_count": 44,
     "metadata": {},
     "output_type": "execute_result"
    }
   ],
   "source": [
    "df['Understand state of instruction'].value_counts(normalize=True)"
   ]
  },
  {
   "cell_type": "code",
   "execution_count": 63,
   "metadata": {
    "collapsed": false
   },
   "outputs": [
    {
     "data": {
      "text/plain": [
       "<matplotlib.axes._subplots.AxesSubplot at 0x7fbb46960390>"
      ]
     },
     "execution_count": 63,
     "metadata": {},
     "output_type": "execute_result"
    },
    {
     "data": {
      "image/png": "[encoded data removed]",
      "text/plain": [
       "<matplotlib.figure.Figure at 0x7fbb4692a080>"
      ]
     },
     "metadata": {},
     "output_type": "display_data"
    }
   ],
   "source": [
    "df['Understand state of instruction'].value_counts(normalize=True).plot(kind=\"bar\", title=\"Understand State of Instruction\")"
   ]
  },
  {
   "cell_type": "code",
   "execution_count": 45,
   "metadata": {
    "collapsed": false
   },
   "outputs": [
    {
     "data": {
      "text/plain": [
       "Strongly Agree       0.608660\n",
       "Agree                0.298438\n",
       "Somewhat Agree       0.045492\n",
       "Neutral              0.024664\n",
       "Strongly Disagree    0.009866\n",
       "Disagree             0.006851\n",
       "Somewhat Disagree    0.006029\n",
       "Name: Valuable use of my time:, dtype: float64"
      ]
     },
     "execution_count": 45,
     "metadata": {},
     "output_type": "execute_result"
    }
   ],
   "source": [
    "df['Valuable use of my time:'].value_counts(normalize=True)"
   ]
  },
  {
   "cell_type": "code",
   "execution_count": 73,
   "metadata": {
    "collapsed": false
   },
   "outputs": [
    {
     "data": {
      "text/plain": [
       "<matplotlib.axes._subplots.AxesSubplot at 0x7fbb464a9748>"
      ]
     },
     "execution_count": 73,
     "metadata": {},
     "output_type": "execute_result"
    },
    {
     "data": {
      "image/png": "[encoded data removed]",
      "text/plain": [
       "<matplotlib.figure.Figure at 0x7fbb465a2f60>"
      ]
     },
     "metadata": {},
     "output_type": "display_data"
    }
   ],
   "source": [
    "df['Valuable use of my time:'].value_counts(normalize=True).plot(kind=\"bar\", title=\"Valuable Use of Time\")"
   ]
  },
  {
   "cell_type": "code",
   "execution_count": 46,
   "metadata": {
    "collapsed": false
   },
   "outputs": [
    {
     "data": {
      "text/plain": [
       "Agree             0.625\n",
       "Strongly Agree    0.250\n",
       "Somewhat Agree    0.125\n",
       "Name: Clarity direction of work ahead, dtype: float64"
      ]
     },
     "execution_count": 46,
     "metadata": {},
     "output_type": "execute_result"
    }
   ],
   "source": [
    "df['Clarity direction of work ahead'].value_counts(normalize=True)"
   ]
  },
  {
   "cell_type": "code",
   "execution_count": 74,
   "metadata": {
    "collapsed": false
   },
   "outputs": [
    {
     "data": {
      "text/plain": [
       "<matplotlib.axes._subplots.AxesSubplot at 0x7fbb4641c400>"
      ]
     },
     "execution_count": 74,
     "metadata": {},
     "output_type": "execute_result"
    },
    {
     "data": {
      "image/png": "[encoded data removed]",
      "text/plain": [
       "<matplotlib.figure.Figure at 0x7fbb463e6048>"
      ]
     },
     "metadata": {},
     "output_type": "display_data"
    }
   ],
   "source": [
    "df['Clarity direction of work ahead'].value_counts(normalize=True).plot(kind=\"bar\", title=\"Clarity Direction of Work Ahead\")"
   ]
  },
  {
   "cell_type": "code",
   "execution_count": null,
   "metadata": {
    "collapsed": true
   },
   "outputs": [],
   "source": [
    "df[I learned something:].value_counts(normalize=True)"
   ]
  },
  {
   "cell_type": "code",
   "execution_count": 76,
   "metadata": {
    "collapsed": false
   },
   "outputs": [
    {
     "data": {
      "text/plain": [
       "<matplotlib.axes._subplots.AxesSubplot at 0x7fbb462ff048>"
      ]
     },
     "execution_count": 76,
     "metadata": {},
     "output_type": "execute_result"
    },
    {
     "data": {
      "image/png": "[encoded data removed]",
      "text/plain": [
       "<matplotlib.figure.Figure at 0x7fbb462cd160>"
      ]
     },
     "metadata": {},
     "output_type": "display_data"
    }
   ],
   "source": [
    "df['I learned something:'].value_counts(normalize=True).plot(kind=\"bar\", title=\"I Learned Something\")"
   ]
  },
  {
   "cell_type": "code",
   "execution_count": 9,
   "metadata": {
    "collapsed": false
   },
   "outputs": [
    {
     "data": {
      "text/plain": [
       "10.0    0.547842\n",
       "8.0     0.130216\n",
       "9.0     0.116906\n",
       "7.0     0.079496\n",
       "5.0     0.053597\n",
       "6.0     0.028417\n",
       "3.0     0.016187\n",
       "4.0     0.012950\n",
       "2.0     0.006475\n",
       "0.0     0.005396\n",
       "1.0     0.002518\n",
       "Name: Likely to recommend Instruction Partners, dtype: float64"
      ]
     },
     "execution_count": 9,
     "metadata": {},
     "output_type": "execute_result"
    }
   ],
   "source": [
    "df['Likely to recommend Instruction Partners'].value_counts(normalize=True)"
   ]
  },
  {
   "cell_type": "code",
   "execution_count": 81,
   "metadata": {
    "collapsed": false
   },
   "outputs": [
    {
     "data": {
      "text/plain": [
       "<matplotlib.axes._subplots.AxesSubplot at 0x7fbb460db3c8>"
      ]
     },
     "execution_count": 81,
     "metadata": {},
     "output_type": "execute_result"
    },
    {
     "data": {
      "image/png": "[encoded data removed]",
      "text/plain": [
       "<matplotlib.figure.Figure at 0x7fbb46382518>"
      ]
     },
     "metadata": {},
     "output_type": "display_data"
    }
   ],
   "source": [
    "df['Likely to recommend Instruction Partners'].value_counts(normalize=True).plot(kind=\"bar\", title=\"Likely to Recommend\")"
   ]
  },
  {
   "cell_type": "code",
   "execution_count": 47,
   "metadata": {
    "collapsed": false
   },
   "outputs": [
    {
     "data": {
      "text/plain": [
       "Teacher                                    0.235955\n",
       "Assistant Principal                        0.200329\n",
       "Principal                                  0.188545\n",
       "Instructional Coach                        0.183338\n",
       "District Leader / CMO Leader               0.075363\n",
       "Other                                      0.066320\n",
       "Teacher Leader                             0.042203\n",
       "Superintendent / CMO Executive Director    0.007947\n",
       "Name: Submitter Role, dtype: float64"
      ]
     },
     "execution_count": 47,
     "metadata": {},
     "output_type": "execute_result"
    }
   ],
   "source": [
    "df['Submitter Role'].value_counts(normalize=True)"
   ]
  },
  {
   "cell_type": "code",
   "execution_count": 48,
   "metadata": {
    "collapsed": false
   },
   "outputs": [
    {
     "data": {
      "text/plain": [
       "Professional Development    0.546999\n",
       "Walkthrough and Debrief     0.177309\n",
       "Leader Coaching             0.118389\n",
       "Action Planning             0.099753\n",
       "Teacher Coaching            0.020005\n",
       "PLC Support                 0.019457\n",
       "Progress Monitoring         0.018087\n",
       "Name: Survey Type, dtype: float64"
      ]
     },
     "execution_count": 48,
     "metadata": {},
     "output_type": "execute_result"
    }
   ],
   "source": [
    "df['Survey Type'].value_counts(normalize=True)"
   ]
  },
  {
   "cell_type": "code",
   "execution_count": 49,
   "metadata": {
    "collapsed": false
   },
   "outputs": [
    {
     "data": {
      "text/plain": [
       "Virtual    0.632158\n",
       "On-site    0.367842\n",
       "Name: Delivery Method, dtype: float64"
      ]
     },
     "execution_count": 49,
     "metadata": {},
     "output_type": "execute_result"
    }
   ],
   "source": [
    "df['Delivery Method'].value_counts(normalize=True)"
   ]
  },
  {
   "cell_type": "code",
   "execution_count": null,
   "metadata": {
    "collapsed": true
   },
   "outputs": [],
   "source": []
  }
 ],
 "metadata": {
  "kernelspec": {
   "display_name": "Python 3",
   "language": "python",
   "name": "python3"
  },
  "language_info": {
   "codemirror_mode": {
    "name": "ipython",
    "version": 3
   },
   "file_extension": ".py",
   "mimetype": "text/x-python",
   "name": "python",
   "nbconvert_exporter": "python",
   "pygments_lexer": "ipython3",
   "version": "3.4.3"
  }
 },
 "nbformat": 4,
 "nbformat_minor": 4
}
